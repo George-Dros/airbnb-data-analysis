{
 "cells": [
  {
   "cell_type": "markdown",
   "id": "364582c2-12af-435a-bc5d-94fd89ad75da",
   "metadata": {},
   "source": [
    "### 1. Data Cleaning & Preparation"
   ]
  },
  {
   "cell_type": "code",
   "execution_count": 7,
   "id": "ac6f8334-ff5b-4871-b6c1-1e197bb9c941",
   "metadata": {},
   "outputs": [],
   "source": [
    "import pandas as pd"
   ]
  },
  {
   "cell_type": "code",
   "execution_count": 102,
   "id": "0c57931c-1878-47f4-a711-0238aaf1ca61",
   "metadata": {},
   "outputs": [],
   "source": [
    "df = pd.read_csv('data/listings.csv')"
   ]
  },
  {
   "cell_type": "code",
   "execution_count": 104,
   "id": "c0f99f07-613d-4688-ac61-f5a2de7a3e40",
   "metadata": {
    "scrolled": true
   },
   "outputs": [
    {
     "data": {
      "text/plain": [
       "Index(['id', 'listing_url', 'scrape_id', 'last_scraped', 'source', 'name',\n",
       "       'description', 'neighborhood_overview', 'picture_url', 'host_id',\n",
       "       'host_url', 'host_name', 'host_since', 'host_location', 'host_about',\n",
       "       'host_response_time', 'host_response_rate', 'host_acceptance_rate',\n",
       "       'host_is_superhost', 'host_thumbnail_url', 'host_picture_url',\n",
       "       'host_neighbourhood', 'host_listings_count',\n",
       "       'host_total_listings_count', 'host_verifications',\n",
       "       'host_has_profile_pic', 'host_identity_verified', 'neighbourhood',\n",
       "       'neighbourhood_cleansed', 'neighbourhood_group_cleansed', 'latitude',\n",
       "       'longitude', 'property_type', 'room_type', 'accommodates', 'bathrooms',\n",
       "       'bathrooms_text', 'bedrooms', 'beds', 'amenities', 'price',\n",
       "       'minimum_nights', 'maximum_nights', 'minimum_minimum_nights',\n",
       "       'maximum_minimum_nights', 'minimum_maximum_nights',\n",
       "       'maximum_maximum_nights', 'minimum_nights_avg_ntm',\n",
       "       'maximum_nights_avg_ntm', 'calendar_updated', 'has_availability',\n",
       "       'availability_30', 'availability_60', 'availability_90',\n",
       "       'availability_365', 'calendar_last_scraped', 'number_of_reviews',\n",
       "       'number_of_reviews_ltm', 'number_of_reviews_l30d', 'availability_eoy',\n",
       "       'number_of_reviews_ly', 'estimated_occupancy_l365d',\n",
       "       'estimated_revenue_l365d', 'first_review', 'last_review',\n",
       "       'review_scores_rating', 'review_scores_accuracy',\n",
       "       'review_scores_cleanliness', 'review_scores_checkin',\n",
       "       'review_scores_communication', 'review_scores_location',\n",
       "       'review_scores_value', 'license', 'instant_bookable',\n",
       "       'calculated_host_listings_count',\n",
       "       'calculated_host_listings_count_entire_homes',\n",
       "       'calculated_host_listings_count_private_rooms',\n",
       "       'calculated_host_listings_count_shared_rooms', 'reviews_per_month'],\n",
       "      dtype='object')"
      ]
     },
     "execution_count": 104,
     "metadata": {},
     "output_type": "execute_result"
    }
   ],
   "source": [
    "df.columns"
   ]
  },
  {
   "cell_type": "code",
   "execution_count": 106,
   "id": "a6ff4216-7c1c-4345-bbcc-38277e5db63c",
   "metadata": {},
   "outputs": [],
   "source": [
    "df = df.drop([\n",
    "    'listing_url',\n",
    "    'scrape_id',\n",
    "    'host_url',\n",
    "    'host_id',\n",
    "    'calendar_last_scraped',\n",
    "    'calendar_updated',\n",
    "    'picture_url',\n",
    "    'host_picture_url',\n",
    "    'host_thumbnail_url',\n",
    "    'license',\n",
    "    'host_verifications',\n",
    "    'host_identity_verified',\n",
    "    'minimum_minimum_nights',\n",
    "    'maximum_minimum_nights',\n",
    "    'calculated_host_listings_count',\n",
    "    'last_scraped',\n",
    "    'source',\n",
    "    'description',\n",
    "    'neighborhood_overview',\n",
    "    'host_name',\n",
    "    'host_since',\n",
    "    'host_location',\n",
    "    'host_about',\n",
    "    'host_response_time',\n",
    "    'host_response_rate',\n",
    "    'host_acceptance_rate',\n",
    "    'host_neighbourhood',\n",
    "    'host_listings_count',\n",
    "    'host_total_listings_count',\n",
    "    'host_has_profile_pic',\n",
    "    'bathrooms_text',\n",
    "    'minimum_maximum_nights',\n",
    "    'maximum_maximum_nights',\n",
    "    'minimum_nights_avg_ntm',\n",
    "    'maximum_nights_avg_ntm',\n",
    "    'availability_30',\n",
    "    'availability_60',\n",
    "    'availability_90',\n",
    "    'availability_eoy',\n",
    "    'number_of_reviews_ltm',\n",
    "    'number_of_reviews_l30d',\n",
    "    'number_of_reviews_ly',\n",
    "    'calculated_host_listings_count_entire_homes',\n",
    "    'calculated_host_listings_count_private_rooms',\n",
    "    'calculated_host_listings_count_shared_rooms'\n",
    "], axis=1)\n"
   ]
  },
  {
   "cell_type": "code",
   "execution_count": 63,
   "id": "53277753-f093-4892-9ef4-e8a0f4db229e",
   "metadata": {
    "collapsed": true,
    "jupyter": {
     "outputs_hidden": true
    }
   },
   "outputs": [
    {
     "data": {
      "text/plain": [
       "Index(['id', 'name', 'host_is_superhost', 'neighbourhood',\n",
       "       'neighbourhood_cleansed', 'neighbourhood_group_cleansed', 'latitude',\n",
       "       'longitude', 'property_type', 'room_type', 'accommodates', 'bathrooms',\n",
       "       'bedrooms', 'beds', 'amenities', 'price', 'minimum_nights',\n",
       "       'maximum_nights', 'has_availability', 'availability_365',\n",
       "       'number_of_reviews', 'estimated_occupancy_l365d',\n",
       "       'estimated_revenue_l365d', 'first_review', 'last_review',\n",
       "       'review_scores_rating', 'review_scores_accuracy',\n",
       "       'review_scores_cleanliness', 'review_scores_checkin',\n",
       "       'review_scores_communication', 'review_scores_location',\n",
       "       'review_scores_value', 'instant_bookable', 'reviews_per_month'],\n",
       "      dtype='object')"
      ]
     },
     "execution_count": 63,
     "metadata": {},
     "output_type": "execute_result"
    }
   ],
   "source": [
    "df.columns"
   ]
  },
  {
   "cell_type": "code",
   "execution_count": 108,
   "id": "5bff05b4-e489-4684-b755-088ddce4b6d5",
   "metadata": {},
   "outputs": [
    {
     "name": "stdout",
     "output_type": "stream",
     "text": [
      "<class 'pandas.core.frame.DataFrame'>\n",
      "RangeIndex: 15632 entries, 0 to 15631\n",
      "Data columns (total 34 columns):\n",
      " #   Column                        Non-Null Count  Dtype  \n",
      "---  ------                        --------------  -----  \n",
      " 0   id                            15632 non-null  int64  \n",
      " 1   name                          15632 non-null  object \n",
      " 2   host_is_superhost             14735 non-null  object \n",
      " 3   neighbourhood                 7613 non-null   object \n",
      " 4   neighbourhood_cleansed        15632 non-null  object \n",
      " 5   neighbourhood_group_cleansed  0 non-null      float64\n",
      " 6   latitude                      15632 non-null  float64\n",
      " 7   longitude                     15632 non-null  float64\n",
      " 8   property_type                 15632 non-null  object \n",
      " 9   room_type                     15632 non-null  object \n",
      " 10  accommodates                  15632 non-null  int64  \n",
      " 11  bathrooms                     14849 non-null  float64\n",
      " 12  bedrooms                      15541 non-null  float64\n",
      " 13  beds                          14828 non-null  float64\n",
      " 14  amenities                     15632 non-null  object \n",
      " 15  price                         14851 non-null  object \n",
      " 16  minimum_nights                15632 non-null  int64  \n",
      " 17  maximum_nights                15632 non-null  int64  \n",
      " 18  has_availability              15439 non-null  object \n",
      " 19  availability_365              15632 non-null  int64  \n",
      " 20  number_of_reviews             15632 non-null  int64  \n",
      " 21  estimated_occupancy_l365d     15632 non-null  int64  \n",
      " 22  estimated_revenue_l365d       14851 non-null  float64\n",
      " 23  first_review                  13123 non-null  object \n",
      " 24  last_review                   13123 non-null  object \n",
      " 25  review_scores_rating          13123 non-null  float64\n",
      " 26  review_scores_accuracy        13122 non-null  float64\n",
      " 27  review_scores_cleanliness     13122 non-null  float64\n",
      " 28  review_scores_checkin         13122 non-null  float64\n",
      " 29  review_scores_communication   13122 non-null  float64\n",
      " 30  review_scores_location        13122 non-null  float64\n",
      " 31  review_scores_value           13122 non-null  float64\n",
      " 32  instant_bookable              15632 non-null  object \n",
      " 33  reviews_per_month             13123 non-null  float64\n",
      "dtypes: float64(15), int64(7), object(12)\n",
      "memory usage: 4.1+ MB\n"
     ]
    }
   ],
   "source": [
    "df.info()"
   ]
  },
  {
   "cell_type": "code",
   "execution_count": 110,
   "id": "b842e596-a48a-4fcf-8c5a-e978bcddad61",
   "metadata": {},
   "outputs": [
    {
     "data": {
      "text/plain": [
       "id                                  0\n",
       "name                                0\n",
       "host_is_superhost                 897\n",
       "neighbourhood                    8019\n",
       "neighbourhood_cleansed              0\n",
       "neighbourhood_group_cleansed    15632\n",
       "latitude                            0\n",
       "longitude                           0\n",
       "property_type                       0\n",
       "room_type                           0\n",
       "accommodates                        0\n",
       "bathrooms                         783\n",
       "bedrooms                           91\n",
       "beds                              804\n",
       "amenities                           0\n",
       "price                             781\n",
       "minimum_nights                      0\n",
       "maximum_nights                      0\n",
       "has_availability                  193\n",
       "availability_365                    0\n",
       "number_of_reviews                   0\n",
       "estimated_occupancy_l365d           0\n",
       "estimated_revenue_l365d           781\n",
       "first_review                     2509\n",
       "last_review                      2509\n",
       "review_scores_rating             2509\n",
       "review_scores_accuracy           2510\n",
       "review_scores_cleanliness        2510\n",
       "review_scores_checkin            2510\n",
       "review_scores_communication      2510\n",
       "review_scores_location           2510\n",
       "review_scores_value              2510\n",
       "instant_bookable                    0\n",
       "reviews_per_month                2509\n",
       "dtype: int64"
      ]
     },
     "execution_count": 110,
     "metadata": {},
     "output_type": "execute_result"
    }
   ],
   "source": [
    "df.isna().sum() "
   ]
  },
  {
   "cell_type": "code",
   "execution_count": 112,
   "id": "0878ad44-f2c3-469f-b5a1-535db3f8c14b",
   "metadata": {},
   "outputs": [],
   "source": [
    "df = df.drop(['neighbourhood','neighbourhood_group_cleansed'], axis=1)"
   ]
  },
  {
   "cell_type": "code",
   "execution_count": 114,
   "id": "752f2420-f2d8-430c-9008-2ef652d6675d",
   "metadata": {},
   "outputs": [
    {
     "data": {
      "text/plain": [
       "0        t\n",
       "1        f\n",
       "2        f\n",
       "3        t\n",
       "4        f\n",
       "        ..\n",
       "15627    f\n",
       "15628    f\n",
       "15629    f\n",
       "15630    f\n",
       "15631    f\n",
       "Name: host_is_superhost, Length: 15632, dtype: object"
      ]
     },
     "execution_count": 114,
     "metadata": {},
     "output_type": "execute_result"
    }
   ],
   "source": [
    "df['host_is_superhost']"
   ]
  },
  {
   "cell_type": "code",
   "execution_count": 116,
   "id": "8a0c6896-6687-4320-bdb1-44d8c7c67f5f",
   "metadata": {},
   "outputs": [
    {
     "data": {
      "text/plain": [
       "array(['t', 'f', nan], dtype=object)"
      ]
     },
     "execution_count": 116,
     "metadata": {},
     "output_type": "execute_result"
    }
   ],
   "source": [
    "df['host_is_superhost'].unique()"
   ]
  },
  {
   "cell_type": "code",
   "execution_count": 118,
   "id": "4229db1f-5582-41f9-9b1e-b3571b2c719d",
   "metadata": {},
   "outputs": [],
   "source": [
    "df['host_is_superhost'] = df['host_is_superhost'].fillna('f')"
   ]
  },
  {
   "cell_type": "code",
   "execution_count": 122,
   "id": "3dedb892-fad5-47b9-b543-d95e253404d8",
   "metadata": {},
   "outputs": [],
   "source": [
    "df['host_is_superhost'] = df['host_is_superhost'].map({'t':True,'f':False})"
   ]
  },
  {
   "cell_type": "code",
   "execution_count": 126,
   "id": "53030683-3919-4382-a595-8eade778a264",
   "metadata": {},
   "outputs": [
    {
     "data": {
      "text/plain": [
       "dtype('bool')"
      ]
     },
     "execution_count": 126,
     "metadata": {},
     "output_type": "execute_result"
    }
   ],
   "source": [
    "df['host_is_superhost'].dtype"
   ]
  },
  {
   "cell_type": "code",
   "execution_count": 132,
   "id": "dced1703-e0bb-4e69-ba1b-1d181378bfe7",
   "metadata": {},
   "outputs": [],
   "source": [
    "df['instant_bookable'] = df['instant_bookable'].map({'t':True,'f':False})"
   ]
  },
  {
   "cell_type": "code",
   "execution_count": 140,
   "id": "e238839e-c8ca-40bb-9ae0-c8972280ee0c",
   "metadata": {},
   "outputs": [
    {
     "data": {
      "text/plain": [
       "781"
      ]
     },
     "execution_count": 140,
     "metadata": {},
     "output_type": "execute_result"
    }
   ],
   "source": [
    "df['price'].isna().sum() "
   ]
  },
  {
   "cell_type": "code",
   "execution_count": 144,
   "id": "cb4cac07-3780-4a71-9518-a6388a14176c",
   "metadata": {},
   "outputs": [],
   "source": [
    "df = df.dropna(subset=['price'])"
   ]
  },
  {
   "cell_type": "code",
   "execution_count": 148,
   "id": "cd112d2c-70f5-49ae-b1e5-1f7edde70efc",
   "metadata": {},
   "outputs": [
    {
     "data": {
      "text/plain": [
       "1         $35.00\n",
       "2        $160.00\n",
       "3         $50.00\n",
       "4         $39.00\n",
       "5         $70.00\n",
       "          ...   \n",
       "15627     $53.00\n",
       "15628    $186.00\n",
       "15629     $89.00\n",
       "15630     $99.00\n",
       "15631     $54.00\n",
       "Name: price, Length: 14851, dtype: object"
      ]
     },
     "execution_count": 148,
     "metadata": {},
     "output_type": "execute_result"
    }
   ],
   "source": [
    "df['price']"
   ]
  },
  {
   "cell_type": "code",
   "execution_count": 150,
   "id": "ce5cda41-465c-4526-aa2d-5d15a473c080",
   "metadata": {},
   "outputs": [
    {
     "name": "stderr",
     "output_type": "stream",
     "text": [
      "<>:1: SyntaxWarning: invalid escape sequence '\\$'\n",
      "<>:1: SyntaxWarning: invalid escape sequence '\\$'\n",
      "C:\\Users\\lamal\\AppData\\Local\\Temp\\ipykernel_11908\\2337335738.py:1: SyntaxWarning: invalid escape sequence '\\$'\n",
      "  df['price'] = df['price'].replace('[\\$,]', '', regex=True).astype(float)\n"
     ]
    }
   ],
   "source": [
    "df['price'] = df['price'].replace('[\\$,]', '', regex=True).astype(float)"
   ]
  },
  {
   "cell_type": "code",
   "execution_count": 154,
   "id": "4ca9adbf-587c-40b8-be6c-5639a572febf",
   "metadata": {},
   "outputs": [
    {
     "data": {
      "text/plain": [
       "111.0"
      ]
     },
     "execution_count": 154,
     "metadata": {},
     "output_type": "execute_result"
    }
   ],
   "source": [
    "df['price'][15]"
   ]
  },
  {
   "cell_type": "code",
   "execution_count": 160,
   "id": "dd506d62-c814-4381-9951-d0162e6bbcd0",
   "metadata": {
    "scrolled": true
   },
   "outputs": [
    {
     "data": {
      "text/html": [
       "<div>\n",
       "<style scoped>\n",
       "    .dataframe tbody tr th:only-of-type {\n",
       "        vertical-align: middle;\n",
       "    }\n",
       "\n",
       "    .dataframe tbody tr th {\n",
       "        vertical-align: top;\n",
       "    }\n",
       "\n",
       "    .dataframe thead th {\n",
       "        text-align: right;\n",
       "    }\n",
       "</style>\n",
       "<table border=\"1\" class=\"dataframe\">\n",
       "  <thead>\n",
       "    <tr style=\"text-align: right;\">\n",
       "      <th></th>\n",
       "      <th>bathrooms</th>\n",
       "      <th>bedrooms</th>\n",
       "      <th>beds</th>\n",
       "    </tr>\n",
       "  </thead>\n",
       "  <tbody>\n",
       "    <tr>\n",
       "      <th>1</th>\n",
       "      <td>1.0</td>\n",
       "      <td>2.0</td>\n",
       "      <td>3.0</td>\n",
       "    </tr>\n",
       "    <tr>\n",
       "      <th>2</th>\n",
       "      <td>1.5</td>\n",
       "      <td>3.0</td>\n",
       "      <td>4.0</td>\n",
       "    </tr>\n",
       "    <tr>\n",
       "      <th>3</th>\n",
       "      <td>1.0</td>\n",
       "      <td>1.0</td>\n",
       "      <td>3.0</td>\n",
       "    </tr>\n",
       "    <tr>\n",
       "      <th>4</th>\n",
       "      <td>1.0</td>\n",
       "      <td>1.0</td>\n",
       "      <td>1.0</td>\n",
       "    </tr>\n",
       "    <tr>\n",
       "      <th>5</th>\n",
       "      <td>1.0</td>\n",
       "      <td>1.0</td>\n",
       "      <td>2.0</td>\n",
       "    </tr>\n",
       "    <tr>\n",
       "      <th>...</th>\n",
       "      <td>...</td>\n",
       "      <td>...</td>\n",
       "      <td>...</td>\n",
       "    </tr>\n",
       "    <tr>\n",
       "      <th>15627</th>\n",
       "      <td>1.0</td>\n",
       "      <td>2.0</td>\n",
       "      <td>2.0</td>\n",
       "    </tr>\n",
       "    <tr>\n",
       "      <th>15628</th>\n",
       "      <td>3.0</td>\n",
       "      <td>3.0</td>\n",
       "      <td>4.0</td>\n",
       "    </tr>\n",
       "    <tr>\n",
       "      <th>15629</th>\n",
       "      <td>2.0</td>\n",
       "      <td>2.0</td>\n",
       "      <td>3.0</td>\n",
       "    </tr>\n",
       "    <tr>\n",
       "      <th>15630</th>\n",
       "      <td>0.0</td>\n",
       "      <td>1.0</td>\n",
       "      <td>2.0</td>\n",
       "    </tr>\n",
       "    <tr>\n",
       "      <th>15631</th>\n",
       "      <td>1.0</td>\n",
       "      <td>2.0</td>\n",
       "      <td>2.0</td>\n",
       "    </tr>\n",
       "  </tbody>\n",
       "</table>\n",
       "<p>14851 rows × 3 columns</p>\n",
       "</div>"
      ],
      "text/plain": [
       "       bathrooms  bedrooms  beds\n",
       "1            1.0       2.0   3.0\n",
       "2            1.5       3.0   4.0\n",
       "3            1.0       1.0   3.0\n",
       "4            1.0       1.0   1.0\n",
       "5            1.0       1.0   2.0\n",
       "...          ...       ...   ...\n",
       "15627        1.0       2.0   2.0\n",
       "15628        3.0       3.0   4.0\n",
       "15629        2.0       2.0   3.0\n",
       "15630        0.0       1.0   2.0\n",
       "15631        1.0       2.0   2.0\n",
       "\n",
       "[14851 rows x 3 columns]"
      ]
     },
     "execution_count": 160,
     "metadata": {},
     "output_type": "execute_result"
    }
   ],
   "source": [
    "df[['bathrooms', 'bedrooms','beds']]"
   ]
  },
  {
   "cell_type": "code",
   "execution_count": 162,
   "id": "c2db1024-e412-43cf-94d4-98e080e9754c",
   "metadata": {},
   "outputs": [
    {
     "data": {
      "text/plain": [
       "bathrooms     5\n",
       "bedrooms     16\n",
       "beds         26\n",
       "dtype: int64"
      ]
     },
     "execution_count": 162,
     "metadata": {},
     "output_type": "execute_result"
    }
   ],
   "source": [
    "df[['bathrooms', 'bedrooms', 'beds']].isna().sum()"
   ]
  },
  {
   "cell_type": "code",
   "execution_count": 164,
   "id": "f6ddb616-6ae9-4e29-aa5f-3f98fb3d1a30",
   "metadata": {},
   "outputs": [],
   "source": [
    "for col in ['bathrooms', 'bedrooms', 'beds']:\n",
    "    median_value = df[col].median()\n",
    "    df[col] = df[col].fillna(median_value)"
   ]
  },
  {
   "cell_type": "code",
   "execution_count": 166,
   "id": "472e0468-8d05-462e-aa4e-fe78448349f0",
   "metadata": {},
   "outputs": [
    {
     "data": {
      "text/plain": [
       "bathrooms    0\n",
       "bedrooms     0\n",
       "beds         0\n",
       "dtype: int64"
      ]
     },
     "execution_count": 166,
     "metadata": {},
     "output_type": "execute_result"
    }
   ],
   "source": [
    "df[['bathrooms', 'bedrooms', 'beds']].isna().sum()"
   ]
  },
  {
   "cell_type": "code",
   "execution_count": 208,
   "id": "9ce94cd9-b530-40ca-8984-8722eb69b194",
   "metadata": {},
   "outputs": [
    {
     "data": {
      "text/html": [
       "<div>\n",
       "<style scoped>\n",
       "    .dataframe tbody tr th:only-of-type {\n",
       "        vertical-align: middle;\n",
       "    }\n",
       "\n",
       "    .dataframe tbody tr th {\n",
       "        vertical-align: top;\n",
       "    }\n",
       "\n",
       "    .dataframe thead th {\n",
       "        text-align: right;\n",
       "    }\n",
       "</style>\n",
       "<table border=\"1\" class=\"dataframe\">\n",
       "  <thead>\n",
       "    <tr style=\"text-align: right;\">\n",
       "      <th></th>\n",
       "      <th>bathrooms</th>\n",
       "      <th>bedrooms</th>\n",
       "      <th>beds</th>\n",
       "    </tr>\n",
       "  </thead>\n",
       "  <tbody>\n",
       "    <tr>\n",
       "      <th>1</th>\n",
       "      <td>1.0</td>\n",
       "      <td>2.0</td>\n",
       "      <td>3.0</td>\n",
       "    </tr>\n",
       "    <tr>\n",
       "      <th>2</th>\n",
       "      <td>1.5</td>\n",
       "      <td>3.0</td>\n",
       "      <td>4.0</td>\n",
       "    </tr>\n",
       "    <tr>\n",
       "      <th>3</th>\n",
       "      <td>1.0</td>\n",
       "      <td>1.0</td>\n",
       "      <td>3.0</td>\n",
       "    </tr>\n",
       "    <tr>\n",
       "      <th>4</th>\n",
       "      <td>1.0</td>\n",
       "      <td>1.0</td>\n",
       "      <td>1.0</td>\n",
       "    </tr>\n",
       "    <tr>\n",
       "      <th>5</th>\n",
       "      <td>1.0</td>\n",
       "      <td>1.0</td>\n",
       "      <td>2.0</td>\n",
       "    </tr>\n",
       "    <tr>\n",
       "      <th>...</th>\n",
       "      <td>...</td>\n",
       "      <td>...</td>\n",
       "      <td>...</td>\n",
       "    </tr>\n",
       "    <tr>\n",
       "      <th>15627</th>\n",
       "      <td>1.0</td>\n",
       "      <td>2.0</td>\n",
       "      <td>2.0</td>\n",
       "    </tr>\n",
       "    <tr>\n",
       "      <th>15628</th>\n",
       "      <td>3.0</td>\n",
       "      <td>3.0</td>\n",
       "      <td>4.0</td>\n",
       "    </tr>\n",
       "    <tr>\n",
       "      <th>15629</th>\n",
       "      <td>2.0</td>\n",
       "      <td>2.0</td>\n",
       "      <td>3.0</td>\n",
       "    </tr>\n",
       "    <tr>\n",
       "      <th>15630</th>\n",
       "      <td>0.0</td>\n",
       "      <td>1.0</td>\n",
       "      <td>2.0</td>\n",
       "    </tr>\n",
       "    <tr>\n",
       "      <th>15631</th>\n",
       "      <td>1.0</td>\n",
       "      <td>2.0</td>\n",
       "      <td>2.0</td>\n",
       "    </tr>\n",
       "  </tbody>\n",
       "</table>\n",
       "<p>14851 rows × 3 columns</p>\n",
       "</div>"
      ],
      "text/plain": [
       "       bathrooms  bedrooms  beds\n",
       "1            1.0       2.0   3.0\n",
       "2            1.5       3.0   4.0\n",
       "3            1.0       1.0   3.0\n",
       "4            1.0       1.0   1.0\n",
       "5            1.0       1.0   2.0\n",
       "...          ...       ...   ...\n",
       "15627        1.0       2.0   2.0\n",
       "15628        3.0       3.0   4.0\n",
       "15629        2.0       2.0   3.0\n",
       "15630        0.0       1.0   2.0\n",
       "15631        1.0       2.0   2.0\n",
       "\n",
       "[14851 rows x 3 columns]"
      ]
     },
     "execution_count": 208,
     "metadata": {},
     "output_type": "execute_result"
    }
   ],
   "source": [
    "df[['bathrooms', 'bedrooms', 'beds']]"
   ]
  },
  {
   "cell_type": "code",
   "execution_count": null,
   "id": "aaab72d8-36fe-4f82-91bf-e738e8f5a4ef",
   "metadata": {},
   "outputs": [],
   "source": [
    "(df['reviews_per_month'] == 0.0).sum()"
   ]
  },
  {
   "cell_type": "code",
   "execution_count": 180,
   "id": "7006a281-b30e-4cd4-935f-e0159f2ea012",
   "metadata": {},
   "outputs": [
    {
     "data": {
      "text/plain": [
       "dtype('float64')"
      ]
     },
     "execution_count": 180,
     "metadata": {},
     "output_type": "execute_result"
    }
   ],
   "source": [
    "df['reviews_per_month'].iloc[15].dtype"
   ]
  },
  {
   "cell_type": "code",
   "execution_count": 192,
   "id": "2ab720ee-6c24-44ca-8769-ad5cdc33762f",
   "metadata": {},
   "outputs": [
    {
     "data": {
      "text/plain": [
       "first_review    2290\n",
       "last_review     2290\n",
       "dtype: int64"
      ]
     },
     "execution_count": 192,
     "metadata": {},
     "output_type": "execute_result"
    }
   ],
   "source": [
    "df[['first_review','last_review']].isna().sum()"
   ]
  },
  {
   "cell_type": "code",
   "execution_count": 194,
   "id": "c17da6c4-e796-4879-ad47-c3239115a806",
   "metadata": {},
   "outputs": [],
   "source": [
    "df['first_review'] = pd.to_datetime(df['first_review'])\n",
    "df['last_review'] = pd.to_datetime(df['last_review'])"
   ]
  },
  {
   "cell_type": "code",
   "execution_count": 206,
   "id": "f56174d6-45be-4ece-8a0d-b785cc9a2e30",
   "metadata": {},
   "outputs": [
    {
     "data": {
      "text/plain": [
       "1       2010-11-02\n",
       "2       2011-08-28\n",
       "3       2015-05-27\n",
       "4       2011-09-24\n",
       "5       2011-07-14\n",
       "           ...    \n",
       "15627          NaT\n",
       "15628          NaT\n",
       "15629          NaT\n",
       "15630          NaT\n",
       "15631          NaT\n",
       "Name: first_review, Length: 14851, dtype: datetime64[ns]"
      ]
     },
     "execution_count": 206,
     "metadata": {},
     "output_type": "execute_result"
    }
   ],
   "source": [
    "df['first_review']"
   ]
  },
  {
   "cell_type": "code",
   "execution_count": null,
   "id": "c4037f93-8fe1-4118-bd69-e82189cd932d",
   "metadata": {},
   "outputs": [],
   "source": []
  }
 ],
 "metadata": {
  "kernelspec": {
   "display_name": "Python [conda env:anaconda3] *",
   "language": "python",
   "name": "conda-env-anaconda3-py"
  },
  "language_info": {
   "codemirror_mode": {
    "name": "ipython",
    "version": 3
   },
   "file_extension": ".py",
   "mimetype": "text/x-python",
   "name": "python",
   "nbconvert_exporter": "python",
   "pygments_lexer": "ipython3",
   "version": "3.12.7"
  }
 },
 "nbformat": 4,
 "nbformat_minor": 5
}
