{
 "cells": [
  {
   "cell_type": "code",
   "execution_count": 2,
   "id": "0365e94f-db9a-4426-8ec2-ebef4fc9f54b",
   "metadata": {},
   "outputs": [],
   "source": [
    "import pandas as pd\n",
    "import matplotlib.pyplot as plt\n",
    "import seaborn as sns"
   ]
  },
  {
   "cell_type": "code",
   "execution_count": 3,
   "id": "0ab96efc-c30c-48d1-8c86-1bc58be26871",
   "metadata": {},
   "outputs": [],
   "source": [
    "df = pd.read_csv(\"data/listings_cleaned.csv\")\n",
    "df = pd.read_csv(\"data/listings_cleaned.csv\", parse_dates=[\"first_review\", \"last_review\"])"
   ]
  },
  {
   "cell_type": "code",
   "execution_count": 4,
   "id": "0f2b5dde-8eff-4917-8840-6335a3847431",
   "metadata": {
    "scrolled": true
   },
   "outputs": [
    {
     "name": "stdout",
     "output_type": "stream",
     "text": [
      "<class 'pandas.core.frame.DataFrame'>\n",
      "RangeIndex: 14851 entries, 0 to 14850\n",
      "Data columns (total 32 columns):\n",
      " #   Column                       Non-Null Count  Dtype         \n",
      "---  ------                       --------------  -----         \n",
      " 0   id                           14851 non-null  int64         \n",
      " 1   name                         14851 non-null  object        \n",
      " 2   host_is_superhost            14851 non-null  bool          \n",
      " 3   neighbourhood_cleansed       14851 non-null  object        \n",
      " 4   latitude                     14851 non-null  float64       \n",
      " 5   longitude                    14851 non-null  float64       \n",
      " 6   property_type                14851 non-null  object        \n",
      " 7   room_type                    14851 non-null  object        \n",
      " 8   accommodates                 14851 non-null  int64         \n",
      " 9   bathrooms                    14851 non-null  float64       \n",
      " 10  bedrooms                     14851 non-null  float64       \n",
      " 11  beds                         14851 non-null  float64       \n",
      " 12  amenities                    14851 non-null  object        \n",
      " 13  price                        14851 non-null  float64       \n",
      " 14  minimum_nights               14851 non-null  int64         \n",
      " 15  maximum_nights               14851 non-null  int64         \n",
      " 16  has_availability             14789 non-null  object        \n",
      " 17  availability_365             14851 non-null  int64         \n",
      " 18  number_of_reviews            14851 non-null  int64         \n",
      " 19  estimated_occupancy_l365d    14851 non-null  int64         \n",
      " 20  estimated_revenue_l365d      14851 non-null  float64       \n",
      " 21  first_review                 12561 non-null  datetime64[ns]\n",
      " 22  last_review                  12561 non-null  datetime64[ns]\n",
      " 23  review_scores_rating         12561 non-null  float64       \n",
      " 24  review_scores_accuracy       12560 non-null  float64       \n",
      " 25  review_scores_cleanliness    12560 non-null  float64       \n",
      " 26  review_scores_checkin        12560 non-null  float64       \n",
      " 27  review_scores_communication  12560 non-null  float64       \n",
      " 28  review_scores_location       12560 non-null  float64       \n",
      " 29  review_scores_value          12560 non-null  float64       \n",
      " 30  instant_bookable             14851 non-null  bool          \n",
      " 31  reviews_per_month            12561 non-null  float64       \n",
      "dtypes: bool(2), datetime64[ns](2), float64(15), int64(7), object(6)\n",
      "memory usage: 3.4+ MB\n"
     ]
    },
    {
     "data": {
      "text/html": [
       "<div>\n",
       "<style scoped>\n",
       "    .dataframe tbody tr th:only-of-type {\n",
       "        vertical-align: middle;\n",
       "    }\n",
       "\n",
       "    .dataframe tbody tr th {\n",
       "        vertical-align: top;\n",
       "    }\n",
       "\n",
       "    .dataframe thead th {\n",
       "        text-align: right;\n",
       "    }\n",
       "</style>\n",
       "<table border=\"1\" class=\"dataframe\">\n",
       "  <thead>\n",
       "    <tr style=\"text-align: right;\">\n",
       "      <th></th>\n",
       "      <th>id</th>\n",
       "      <th>name</th>\n",
       "      <th>host_is_superhost</th>\n",
       "      <th>neighbourhood_cleansed</th>\n",
       "      <th>latitude</th>\n",
       "      <th>longitude</th>\n",
       "      <th>property_type</th>\n",
       "      <th>room_type</th>\n",
       "      <th>accommodates</th>\n",
       "      <th>bathrooms</th>\n",
       "      <th>...</th>\n",
       "      <th>last_review</th>\n",
       "      <th>review_scores_rating</th>\n",
       "      <th>review_scores_accuracy</th>\n",
       "      <th>review_scores_cleanliness</th>\n",
       "      <th>review_scores_checkin</th>\n",
       "      <th>review_scores_communication</th>\n",
       "      <th>review_scores_location</th>\n",
       "      <th>review_scores_value</th>\n",
       "      <th>instant_bookable</th>\n",
       "      <th>reviews_per_month</th>\n",
       "    </tr>\n",
       "  </thead>\n",
       "  <tbody>\n",
       "    <tr>\n",
       "      <th>0</th>\n",
       "      <td>33945</td>\n",
       "      <td>Spacious Cosy aprtm very close to Metro!</td>\n",
       "      <td>False</td>\n",
       "      <td>ΑΓΙΟΣ ΝΙΚΟΛΑΟΣ</td>\n",
       "      <td>38.00673</td>\n",
       "      <td>23.72775</td>\n",
       "      <td>Entire condo</td>\n",
       "      <td>Entire home/apt</td>\n",
       "      <td>4</td>\n",
       "      <td>1.0</td>\n",
       "      <td>...</td>\n",
       "      <td>2025-06-18</td>\n",
       "      <td>4.75</td>\n",
       "      <td>4.76</td>\n",
       "      <td>4.71</td>\n",
       "      <td>4.88</td>\n",
       "      <td>4.90</td>\n",
       "      <td>4.64</td>\n",
       "      <td>4.81</td>\n",
       "      <td>False</td>\n",
       "      <td>0.47</td>\n",
       "    </tr>\n",
       "    <tr>\n",
       "      <th>1</th>\n",
       "      <td>49489</td>\n",
       "      <td>Ermou 44 - 3bdr apt in the heart of Athens</td>\n",
       "      <td>False</td>\n",
       "      <td>ΕΜΠΟΡΙΚΟ ΤΡΙΓΩΝΟ-ΠΛΑΚΑ</td>\n",
       "      <td>37.97670</td>\n",
       "      <td>23.73064</td>\n",
       "      <td>Entire rental unit</td>\n",
       "      <td>Entire home/apt</td>\n",
       "      <td>7</td>\n",
       "      <td>1.5</td>\n",
       "      <td>...</td>\n",
       "      <td>2025-06-06</td>\n",
       "      <td>4.68</td>\n",
       "      <td>4.78</td>\n",
       "      <td>4.69</td>\n",
       "      <td>4.84</td>\n",
       "      <td>4.87</td>\n",
       "      <td>4.88</td>\n",
       "      <td>4.69</td>\n",
       "      <td>True</td>\n",
       "      <td>0.84</td>\n",
       "    </tr>\n",
       "    <tr>\n",
       "      <th>2</th>\n",
       "      <td>60394</td>\n",
       "      <td>Cosy apartment! Great central Athens location!</td>\n",
       "      <td>True</td>\n",
       "      <td>ΣΤΑΔΙΟ</td>\n",
       "      <td>37.96738</td>\n",
       "      <td>23.74038</td>\n",
       "      <td>Entire condo</td>\n",
       "      <td>Entire home/apt</td>\n",
       "      <td>2</td>\n",
       "      <td>1.0</td>\n",
       "      <td>...</td>\n",
       "      <td>2024-12-14</td>\n",
       "      <td>4.97</td>\n",
       "      <td>4.97</td>\n",
       "      <td>4.94</td>\n",
       "      <td>4.91</td>\n",
       "      <td>4.97</td>\n",
       "      <td>4.91</td>\n",
       "      <td>4.94</td>\n",
       "      <td>False</td>\n",
       "      <td>0.29</td>\n",
       "    </tr>\n",
       "    <tr>\n",
       "      <th>3</th>\n",
       "      <td>134340</td>\n",
       "      <td>Neo Pagrati Athens Apartment</td>\n",
       "      <td>False</td>\n",
       "      <td>ΠΑΓΚΡΑΤΙ</td>\n",
       "      <td>37.96405</td>\n",
       "      <td>23.74968</td>\n",
       "      <td>Entire condo</td>\n",
       "      <td>Entire home/apt</td>\n",
       "      <td>2</td>\n",
       "      <td>1.0</td>\n",
       "      <td>...</td>\n",
       "      <td>2025-06-06</td>\n",
       "      <td>4.67</td>\n",
       "      <td>4.66</td>\n",
       "      <td>4.40</td>\n",
       "      <td>4.97</td>\n",
       "      <td>4.93</td>\n",
       "      <td>4.55</td>\n",
       "      <td>4.83</td>\n",
       "      <td>False</td>\n",
       "      <td>0.36</td>\n",
       "    </tr>\n",
       "    <tr>\n",
       "      <th>4</th>\n",
       "      <td>154243</td>\n",
       "      <td>LUSCIOUS ROOF GARDEN IN THE CENTER!</td>\n",
       "      <td>False</td>\n",
       "      <td>ΜΟΥΣΕΙΟ-ΕΞΑΡΧΕΙΑ-ΝΕΑΠΟΛΗ</td>\n",
       "      <td>37.98574</td>\n",
       "      <td>23.73323</td>\n",
       "      <td>Entire rental unit</td>\n",
       "      <td>Entire home/apt</td>\n",
       "      <td>4</td>\n",
       "      <td>1.0</td>\n",
       "      <td>...</td>\n",
       "      <td>2025-06-07</td>\n",
       "      <td>4.72</td>\n",
       "      <td>4.80</td>\n",
       "      <td>4.67</td>\n",
       "      <td>4.85</td>\n",
       "      <td>4.88</td>\n",
       "      <td>4.58</td>\n",
       "      <td>4.65</td>\n",
       "      <td>False</td>\n",
       "      <td>1.28</td>\n",
       "    </tr>\n",
       "  </tbody>\n",
       "</table>\n",
       "<p>5 rows × 32 columns</p>\n",
       "</div>"
      ],
      "text/plain": [
       "       id                                            name  host_is_superhost  \\\n",
       "0   33945        Spacious Cosy aprtm very close to Metro!              False   \n",
       "1   49489      Ermou 44 - 3bdr apt in the heart of Athens              False   \n",
       "2   60394  Cosy apartment! Great central Athens location!               True   \n",
       "3  134340                    Neo Pagrati Athens Apartment              False   \n",
       "4  154243             LUSCIOUS ROOF GARDEN IN THE CENTER!              False   \n",
       "\n",
       "     neighbourhood_cleansed  latitude  longitude       property_type  \\\n",
       "0            ΑΓΙΟΣ ΝΙΚΟΛΑΟΣ  38.00673   23.72775        Entire condo   \n",
       "1    ΕΜΠΟΡΙΚΟ ΤΡΙΓΩΝΟ-ΠΛΑΚΑ  37.97670   23.73064  Entire rental unit   \n",
       "2                    ΣΤΑΔΙΟ  37.96738   23.74038        Entire condo   \n",
       "3                  ΠΑΓΚΡΑΤΙ  37.96405   23.74968        Entire condo   \n",
       "4  ΜΟΥΣΕΙΟ-ΕΞΑΡΧΕΙΑ-ΝΕΑΠΟΛΗ  37.98574   23.73323  Entire rental unit   \n",
       "\n",
       "         room_type  accommodates  bathrooms  ...  last_review  \\\n",
       "0  Entire home/apt             4        1.0  ...   2025-06-18   \n",
       "1  Entire home/apt             7        1.5  ...   2025-06-06   \n",
       "2  Entire home/apt             2        1.0  ...   2024-12-14   \n",
       "3  Entire home/apt             2        1.0  ...   2025-06-06   \n",
       "4  Entire home/apt             4        1.0  ...   2025-06-07   \n",
       "\n",
       "   review_scores_rating review_scores_accuracy  review_scores_cleanliness  \\\n",
       "0                  4.75                   4.76                       4.71   \n",
       "1                  4.68                   4.78                       4.69   \n",
       "2                  4.97                   4.97                       4.94   \n",
       "3                  4.67                   4.66                       4.40   \n",
       "4                  4.72                   4.80                       4.67   \n",
       "\n",
       "   review_scores_checkin  review_scores_communication review_scores_location  \\\n",
       "0                   4.88                         4.90                   4.64   \n",
       "1                   4.84                         4.87                   4.88   \n",
       "2                   4.91                         4.97                   4.91   \n",
       "3                   4.97                         4.93                   4.55   \n",
       "4                   4.85                         4.88                   4.58   \n",
       "\n",
       "   review_scores_value  instant_bookable  reviews_per_month  \n",
       "0                 4.81             False               0.47  \n",
       "1                 4.69              True               0.84  \n",
       "2                 4.94             False               0.29  \n",
       "3                 4.83             False               0.36  \n",
       "4                 4.65             False               1.28  \n",
       "\n",
       "[5 rows x 32 columns]"
      ]
     },
     "execution_count": 4,
     "metadata": {},
     "output_type": "execute_result"
    }
   ],
   "source": [
    "df.info()\n",
    "df.head()"
   ]
  },
  {
   "cell_type": "code",
   "execution_count": 5,
   "id": "7c6e5b61-7660-4416-8a2e-ec323981a13a",
   "metadata": {},
   "outputs": [],
   "source": [
    "q1 = df['price'].quantile(0.25)\n",
    "q3 = df['price'].quantile(0.75)"
   ]
  },
  {
   "cell_type": "code",
   "execution_count": 6,
   "id": "211a812c-41df-45d9-8039-7ab8c6e93365",
   "metadata": {},
   "outputs": [],
   "source": [
    "iqr = q3 - q1"
   ]
  },
  {
   "cell_type": "code",
   "execution_count": 7,
   "id": "b9d6b7a1-cdb3-4e96-98a6-d5230d8ad918",
   "metadata": {},
   "outputs": [
    {
     "data": {
      "text/plain": [
       "62.0"
      ]
     },
     "execution_count": 7,
     "metadata": {},
     "output_type": "execute_result"
    }
   ],
   "source": [
    "iqr"
   ]
  },
  {
   "cell_type": "code",
   "execution_count": 8,
   "id": "31f83837-a78f-4fec-bc73-3aaf71592b5e",
   "metadata": {},
   "outputs": [],
   "source": [
    "low_bound = max(0,q1 - 1.5 * iqr)\n",
    "up_bound = q3 + 1.5 * iqr"
   ]
  },
  {
   "cell_type": "code",
   "execution_count": 9,
   "id": "7f3cded7-9abd-4563-8c69-d56bbebbe6ad",
   "metadata": {},
   "outputs": [
    {
     "data": {
      "text/plain": [
       "0"
      ]
     },
     "execution_count": 9,
     "metadata": {},
     "output_type": "execute_result"
    }
   ],
   "source": [
    "low_bound"
   ]
  },
  {
   "cell_type": "code",
   "execution_count": 10,
   "id": "781c4158-d58f-43a9-bcaa-173e17201cf1",
   "metadata": {},
   "outputs": [
    {
     "data": {
      "text/plain": [
       "209.0"
      ]
     },
     "execution_count": 10,
     "metadata": {},
     "output_type": "execute_result"
    }
   ],
   "source": [
    "up_bound"
   ]
  },
  {
   "cell_type": "code",
   "execution_count": 11,
   "id": "bfbe81e9-00b2-48b4-91e9-ee6f1729d07e",
   "metadata": {},
   "outputs": [],
   "source": [
    "df_outliers = df[(df['price'] < low_bound) | (df['price'] > up_bound)]"
   ]
  },
  {
   "cell_type": "code",
   "execution_count": 12,
   "id": "52f5b2bb-de26-4340-8bd4-002a481d98cf",
   "metadata": {},
   "outputs": [
    {
     "data": {
      "text/plain": [
       "1343"
      ]
     },
     "execution_count": 12,
     "metadata": {},
     "output_type": "execute_result"
    }
   ],
   "source": [
    "len(df_outliers)"
   ]
  },
  {
   "cell_type": "code",
   "execution_count": 13,
   "id": "bd1ddc86-0806-4313-b4bc-1202cea01a41",
   "metadata": {},
   "outputs": [
    {
     "data": {
      "text/plain": [
       "9117     38000.0\n",
       "12215    13680.0\n",
       "11785    10007.0\n",
       "238      10000.0\n",
       "14698     9999.0\n",
       "14699     9999.0\n",
       "13868     9999.0\n",
       "13867     9999.0\n",
       "13698     9999.0\n",
       "13865     9999.0\n",
       "Name: price, dtype: float64"
      ]
     },
     "execution_count": 13,
     "metadata": {},
     "output_type": "execute_result"
    }
   ],
   "source": [
    "df['price'].sort_values(ascending=False).head(10)"
   ]
  },
  {
   "cell_type": "code",
   "execution_count": 14,
   "id": "62d5b7c4-fd2e-479e-a3c5-b7c9574a8e1e",
   "metadata": {},
   "outputs": [
    {
     "data": {
      "text/plain": [
       "availability_365\n",
       "252    60\n",
       "365    55\n",
       "364    31\n",
       "253    28\n",
       "251    22\n",
       "       ..\n",
       "310     1\n",
       "57      1\n",
       "199     1\n",
       "54      1\n",
       "1       1\n",
       "Name: count, Length: 305, dtype: int64"
      ]
     },
     "execution_count": 14,
     "metadata": {},
     "output_type": "execute_result"
    }
   ],
   "source": [
    "df_outliers['availability_365'].value_counts()"
   ]
  },
  {
   "cell_type": "code",
   "execution_count": 15,
   "id": "96b74df1-c001-49c8-be8d-1a2a02b850f4",
   "metadata": {},
   "outputs": [
    {
     "data": {
      "text/plain": [
       "<Axes: xlabel='price'>"
      ]
     },
     "execution_count": 15,
     "metadata": {},
     "output_type": "execute_result"
    },
    {
     "data": {
      "image/png": "[encoded data removed]",
      "text/plain": [
       "<Figure size 640x480 with 1 Axes>"
      ]
     },
     "metadata": {},
     "output_type": "display_data"
    }
   ],
   "source": [
    "sns.boxplot(x=df['price'])  # full\n",
    "sns.boxplot(x=df[~df.index.isin(df_outliers.index)]['price'])  # without outliers"
   ]
  },
  {
   "cell_type": "code",
   "execution_count": 16,
   "id": "1508c41d-8a7a-482e-8b7c-85f0a29c9251",
   "metadata": {},
   "outputs": [],
   "source": [
    "df['is_price_outlier'] = df.index.isin(df_outliers.index)"
   ]
  },
  {
   "cell_type": "code",
   "execution_count": 17,
   "id": "280ad8b3-be41-4bca-b1fe-378cdf6ee86a",
   "metadata": {},
   "outputs": [],
   "source": [
    "df_clean = df[~df['is_price_outlier']]\n",
    "df_outliers = df[df['is_price_outlier']]"
   ]
  },
  {
   "cell_type": "code",
   "execution_count": 18,
   "id": "d7fbe6d0-6201-48c2-bdd9-aa427a6412ab",
   "metadata": {},
   "outputs": [
    {
     "data": {
      "image/png": "[encoded data removed]",
      "text/plain": [
       "<Figure size 1400x500 with 2 Axes>"
      ]
     },
     "metadata": {},
     "output_type": "display_data"
    }
   ],
   "source": [
    "plt.figure(figsize=(14,5))\n",
    "plt.subplot(1,2,1)\n",
    "sns.histplot(df['price'], bins=50)\n",
    "plt.title(\"With Outliers\")\n",
    "\n",
    "plt.subplot(1,2,2)\n",
    "sns.histplot(df_clean['price'], bins=50)\n",
    "plt.title(\"Without Outliers\")\n",
    "\n",
    "plt.tight_layout()\n",
    "plt.show()\n"
   ]
  },
  {
   "cell_type": "code",
   "execution_count": 19,
   "id": "22620e7f-6530-4058-a507-3a0055cb0d5e",
   "metadata": {},
   "outputs": [],
   "source": [
    "q1_r = df['reviews_per_month'].quantile(0.25)\n",
    "q3_r = df['reviews_per_month'].quantile(0.75)"
   ]
  },
  {
   "cell_type": "code",
   "execution_count": 20,
   "id": "9b7060a5-a33a-4f09-81cf-d0e9ed23a9b9",
   "metadata": {},
   "outputs": [],
   "source": [
    "iqr_r = q3_r - q1_r"
   ]
  },
  {
   "cell_type": "code",
   "execution_count": 62,
   "id": "b420faba-191a-4398-ae6c-bacc2c6612c5",
   "metadata": {},
   "outputs": [],
   "source": [
    "low_bound_r = max(0,q1_r - 1.5 * iqr_r)\n",
    "up_bound_r = q3_r + 1.5 * iqr_r"
   ]
  },
  {
   "cell_type": "code",
   "execution_count": 64,
   "id": "3e239e92-3e08-47de-af8e-7d2c458a07e8",
   "metadata": {},
   "outputs": [
    {
     "data": {
      "text/plain": [
       "0"
      ]
     },
     "execution_count": 64,
     "metadata": {},
     "output_type": "execute_result"
    }
   ],
   "source": [
    "low_bound_r"
   ]
  },
  {
   "cell_type": "code",
   "execution_count": 66,
   "id": "0197b5c6-4fc8-484c-bf9d-51d57c0dd56d",
   "metadata": {},
   "outputs": [
    {
     "data": {
      "text/plain": [
       "5.744999999999999"
      ]
     },
     "execution_count": 66,
     "metadata": {},
     "output_type": "execute_result"
    }
   ],
   "source": [
    "up_bound_r"
   ]
  },
  {
   "cell_type": "code",
   "execution_count": 68,
   "id": "f98c5ae9-60cd-438c-9cb5-1cefdbf78b7a",
   "metadata": {},
   "outputs": [],
   "source": [
    "df_reviews_outliers = df[df['reviews_per_month'] > up_bound_r]"
   ]
  },
  {
   "cell_type": "code",
   "execution_count": 70,
   "id": "f7237ab4-62fb-4123-a6fa-e5c6b131062f",
   "metadata": {},
   "outputs": [
    {
     "data": {
      "text/plain": [
       "460"
      ]
     },
     "execution_count": 70,
     "metadata": {},
     "output_type": "execute_result"
    }
   ],
   "source": [
    "len(df_reviews_outliers)"
   ]
  },
  {
   "cell_type": "code",
   "execution_count": 73,
   "id": "a2d44ac9-c06d-41de-a823-da1baa2e7277",
   "metadata": {},
   "outputs": [
    {
     "data": {
      "text/plain": [
       "14256    16.98\n",
       "14346    16.00\n",
       "13938    14.56\n",
       "7415     12.73\n",
       "12463    12.35\n",
       "13527    12.00\n",
       "11482    11.19\n",
       "12812    10.86\n",
       "13184    10.78\n",
       "12083    10.51\n",
       "Name: reviews_per_month, dtype: float64"
      ]
     },
     "execution_count": 73,
     "metadata": {},
     "output_type": "execute_result"
    }
   ],
   "source": [
    "df['reviews_per_month'].sort_values(ascending=False).head(10)"
   ]
  },
  {
   "cell_type": "code",
   "execution_count": 75,
   "id": "f2d507da-06b6-4430-a9aa-d22cc4ff07e6",
   "metadata": {},
   "outputs": [
    {
     "data": {
      "text/plain": [
       "room_type\n",
       "Entire home/apt    425\n",
       "Private room        35\n",
       "Name: count, dtype: int64"
      ]
     },
     "execution_count": 75,
     "metadata": {},
     "output_type": "execute_result"
    }
   ],
   "source": [
    "df_reviews_outliers['room_type'].value_counts()"
   ]
  },
  {
   "cell_type": "code",
   "execution_count": 77,
   "id": "96f08592-011b-40cb-be99-fedc0300eb28",
   "metadata": {},
   "outputs": [
    {
     "data": {
      "text/plain": [
       "host_is_superhost\n",
       "True     313\n",
       "False    147\n",
       "Name: count, dtype: int64"
      ]
     },
     "execution_count": 77,
     "metadata": {},
     "output_type": "execute_result"
    }
   ],
   "source": [
    "df_reviews_outliers['host_is_superhost'].value_counts()"
   ]
  },
  {
   "cell_type": "code",
   "execution_count": 81,
   "id": "8ba47255-f5e2-46ac-9ece-6c7bbd324025",
   "metadata": {},
   "outputs": [
    {
     "data": {
      "text/plain": [
       "count    460.000000\n",
       "mean     233.278261\n",
       "std      100.249062\n",
       "min        0.000000\n",
       "25%      168.000000\n",
       "50%      260.500000\n",
       "75%      314.000000\n",
       "max      363.000000\n",
       "Name: availability_365, dtype: float64"
      ]
     },
     "execution_count": 81,
     "metadata": {},
     "output_type": "execute_result"
    }
   ],
   "source": [
    "df_reviews_outliers['availability_365'].describe()"
   ]
  },
  {
   "cell_type": "code",
   "execution_count": 83,
   "id": "f5f1b609-164b-4975-ad08-d0822907129f",
   "metadata": {},
   "outputs": [
    {
     "data": {
      "text/plain": [
       "<Axes: xlabel='reviews_per_month'>"
      ]
     },
     "execution_count": 83,
     "metadata": {},
     "output_type": "execute_result"
    },
    {
     "data": {
      "image/png": "[encoded data removed]",
      "text/plain": [
       "<Figure size 640x480 with 1 Axes>"
      ]
     },
     "metadata": {},
     "output_type": "display_data"
    }
   ],
   "source": [
    "sns.boxplot(x=df['reviews_per_month'])  # full\n",
    "sns.boxplot(x=df[~df.index.isin(df_reviews_outliers.index)]['reviews_per_month'])  # clean"
   ]
  },
  {
   "cell_type": "code",
   "execution_count": 85,
   "id": "25e7e510-bf17-4630-9fda-68accf5ff48f",
   "metadata": {},
   "outputs": [
    {
     "data": {
      "image/png": "[encoded data removed]",
      "text/plain": [
       "<Figure size 1400x500 with 2 Axes>"
      ]
     },
     "metadata": {},
     "output_type": "display_data"
    }
   ],
   "source": [
    "plt.figure(figsize=(14,5))\n",
    "plt.subplot(1,2,1)\n",
    "sns.histplot(df['reviews_per_month'], bins=50)\n",
    "plt.title(\"With Outliers\")\n",
    "\n",
    "plt.subplot(1,2,2)\n",
    "sns.histplot(df[~df['reviews_per_month'].isin(df_reviews_outliers['reviews_per_month'])]['reviews_per_month'], bins=50)\n",
    "plt.title(\"Without Outliers\")\n",
    "\n",
    "plt.tight_layout()\n",
    "plt.show()\n"
   ]
  },
  {
   "cell_type": "code",
   "execution_count": 116,
   "id": "d978fd53-f72c-4d5a-b408-e9d108448044",
   "metadata": {},
   "outputs": [],
   "source": [
    "price_mean = round(df['price'].mean() ,2)\n",
    "price_mean_clean = round(df[~df.index.isin(df_outliers.index)]['price'].mean() ,2)"
   ]
  },
  {
   "cell_type": "code",
   "execution_count": 136,
   "id": "63742a06-d85e-4458-a58d-bed328f1d311",
   "metadata": {},
   "outputs": [
    {
     "data": {
      "text/plain": [
       "131.18"
      ]
     },
     "execution_count": 136,
     "metadata": {},
     "output_type": "execute_result"
    }
   ],
   "source": [
    "price_mean"
   ]
  },
  {
   "cell_type": "code",
   "execution_count": 138,
   "id": "103baf27-7faa-42c6-b4f3-03971c6c3249",
   "metadata": {},
   "outputs": [
    {
     "data": {
      "text/plain": [
       "81.37"
      ]
     },
     "execution_count": 138,
     "metadata": {},
     "output_type": "execute_result"
    }
   ],
   "source": [
    "price_mean_clean"
   ]
  },
  {
   "cell_type": "code",
   "execution_count": 140,
   "id": "9ab5c637-d104-496b-81af-54fe0b3846f2",
   "metadata": {},
   "outputs": [],
   "source": [
    "reviews_mean = round(df['reviews_per_month'].mean() ,2)\n",
    "reviews_mean_clean = round(df[~df.index.isin(df_outliers.index)]['reviews_per_month'].mean() ,2)"
   ]
  },
  {
   "cell_type": "code",
   "execution_count": 142,
   "id": "74d1e479-9517-4286-8473-50f4397e5bd4",
   "metadata": {},
   "outputs": [
    {
     "data": {
      "text/plain": [
       "1.74"
      ]
     },
     "execution_count": 142,
     "metadata": {},
     "output_type": "execute_result"
    }
   ],
   "source": [
    "reviews_mean"
   ]
  },
  {
   "cell_type": "code",
   "execution_count": 144,
   "id": "60981486-ea96-4d68-ae96-4934f6750180",
   "metadata": {},
   "outputs": [
    {
     "data": {
      "text/plain": [
       "1.75"
      ]
     },
     "execution_count": 144,
     "metadata": {},
     "output_type": "execute_result"
    }
   ],
   "source": [
    "reviews_mean_clean"
   ]
  },
  {
   "cell_type": "code",
   "execution_count": 146,
   "id": "b33e797b-43cd-492a-955b-99a90b161ca8",
   "metadata": {},
   "outputs": [
    {
     "data": {
      "image/png": "[encoded data removed]",
      "text/plain": [
       "<Figure size 1400x600 with 2 Axes>"
      ]
     },
     "metadata": {},
     "output_type": "display_data"
    }
   ],
   "source": [
    "fig, axes = plt.subplots(1, 2, figsize=(14, 6))\n",
    "\n",
    "sns.histplot(df['price'], bins=50, ax=axes[0])\n",
    "axes[0].set_title('Price with Outliers')\n",
    "\n",
    "sns.histplot(df[~df.index.isin(df_outliers.index)]['price'], bins=50, ax=axes[1])\n",
    "axes[1].set_title('Price without Outliers')\n",
    "\n",
    "plt.tight_layout()\n",
    "plt.show()\n"
   ]
  },
  {
   "cell_type": "code",
   "execution_count": 147,
   "id": "6da9f1f1-3dd9-4dc7-95b5-90278568a939",
   "metadata": {},
   "outputs": [
    {
     "data": {
      "image/png": "[encoded data removed]",
      "text/plain": [
       "<Figure size 1400x600 with 2 Axes>"
      ]
     },
     "metadata": {},
     "output_type": "display_data"
    }
   ],
   "source": [
    "fig, axes = plt.subplots(1, 2, figsize=(14, 6))\n",
    "\n",
    "sns.histplot(df['reviews_per_month'], bins=50, ax=axes[0])\n",
    "axes[0].set_title('Reviews with Outliers')\n",
    "\n",
    "sns.histplot(df[~df.index.isin(df_outliers.index)]['reviews_per_month'], bins=50, ax=axes[1])\n",
    "axes[1].set_title('Reviews without Outliers')\n",
    "\n",
    "plt.tight_layout()\n",
    "plt.show()"
   ]
  },
  {
   "cell_type": "code",
   "execution_count": null,
   "id": "16d168a0-8fd4-420c-90f3-7f1edf9b3d91",
   "metadata": {},
   "outputs": [],
   "source": []
  }
 ],
 "metadata": {
  "kernelspec": {
   "display_name": "Python [conda env:anaconda3] *",
   "language": "python",
   "name": "conda-env-anaconda3-py"
  },
  "language_info": {
   "codemirror_mode": {
    "name": "ipython",
    "version": 3
   },
   "file_extension": ".py",
   "mimetype": "text/x-python",
   "name": "python",
   "nbconvert_exporter": "python",
   "pygments_lexer": "ipython3",
   "version": "3.12.7"
  }
 },
 "nbformat": 4,
 "nbformat_minor": 5
}
